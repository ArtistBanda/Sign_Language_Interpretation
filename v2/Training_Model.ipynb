{
 "cells": [
  {
   "cell_type": "markdown",
   "execution_count": null,
   "metadata": {
    "colab_type": "text",
    "id": "7fUvzy_ZtTEd"
   },
   "outputs": [],
   "source": [
    "# Download Training Data\n",
    "\n",
    "Set up kaggle api to install data\n",
    "\n",
    "```console\n",
    "$ pip install kaggle\n",
    "\n",
    "```\n",
    "\n",
    "Download kaggle.json from your kaggle profile and copy it to ~/.kaggle\n",
    "\n",
    "```console\n",
    "$ mkdir ~/.kaggle\n",
    "$ cp ~/Downloads/kaggle.json ~/.kaggle\n",
    "\n",
    "```"
   ]
  },
  {
   "cell_type": "code",
   "execution_count": null,
   "metadata": {},
   "outputs": [],
   "source": [
    "! kaggle datasets download -d grassknoted/asl-alphabet\n",
    "! unzip asl-alphabet"
   ]
  },
  {
   "cell_type": "markdown",
   "execution_count": null,
   "metadata": {
    "colab_type": "text",
    "id": "0LNn-RJnthsu"
   },
   "outputs": [],
   "source": [
    "# Importing all the pre-requisite libraries\n",
    "\n",
    "---\n",
    "\n"
   ]
  },
  {
   "cell_type": "code",
   "execution_count": null,
   "metadata": {
    "colab": {
     "base_uri": "https://localhost:8080/",
     "height": 33
    },
    "colab_type": "code",
    "id": "OhrUmXPAWANT",
    "outputId": "86c9aba4-d548-4b17-ffb8-4193ff6b609c"
   },
   "outputs": [],
   "source": [
    "from keras.applications.resnet50 import ResNet50\n",
    "from sklearn import metrics\n",
    "import copy\n",
    "import matplotlib.pyplot as plt\n",
    "import numpy as np\n",
    "import pandas as pd\n",
    "import os\n",
    "import keras\n",
    "import cv2\n",
    "import shutil\n",
    "import tensorflow as tf\n",
    "from keras.layers import LeakyReLU\n",
    "from keras.metrics import categorical_accuracy\n",
    "from keras.utils import plot_model, to_categorical\n",
    "from keras.models import Model,load_model, Sequential\n",
    "from keras.models import load_model\n",
    "from keras.layers import Input, Dense, Activation, ZeroPadding2D, BatchNormalization, Flatten, Conv2D\n",
    "from keras.layers import AveragePooling2D, MaxPooling2D, Dropout, GlobalMaxPooling2D, GlobalAveragePooling2D\n",
    "from keras import regularizers\n",
    "from keras.preprocessing.image import ImageDataGenerator"
   ]
  },
  {
   "cell_type": "markdown",
   "execution_count": null,
   "metadata": {
    "colab_type": "text",
    "id": "Ahj6Cniit4nv"
   },
   "outputs": [],
   "source": [
    "# Neural Network Modelling\n",
    "Using **Resnet50** as the base model for the neural network framework.\n",
    "Then adding 3 fully connected layers of 1024 neurons with *relu* activation function and adding the last output layer using *softmax* activation with 29 nuerons.\n",
    "\n",
    "\n",
    "---\n",
    "\n"
   ]
  },
  {
   "cell_type": "code",
   "execution_count": null,
   "metadata": {
    "colab": {
     "base_uri": "https://localhost:8080/",
     "height": 405
    },
    "colab_type": "code",
    "id": "XVcmh49LWA2C",
    "outputId": "16234801-e771-478e-f977-de63c5e36da5"
   },
   "outputs": [],
   "source": [
    "img_height,img_width=(200,200)\n",
    "base_model = ResNet50(weights= 'imagenet', include_top=False, input_shape= (200,200,3))\n",
    "for layer in base_model.layers:\n",
    "    layer.trainable = False\n",
    "num_classes=29\n",
    "x = base_model.output\n",
    "x = GlobalAveragePooling2D()(x)\n",
    "x = Dropout(0.5)(x)\n",
    "x = Dense(1024, activation='relu')(x)\n",
    "# x = Dropout(0.3)(x)\n",
    "x = Dense(1024, activation='relu')(x)\n",
    "# x = Dropout(0.3)(x)\n",
    "x = Dense(1024, activation='relu')(x)\n",
    "# x = Dropout(0.3)(x)\n",
    "predictions = Dense(num_classes, activation= 'softmax')(x)\n",
    "model = Model(inputs = base_model.input, outputs = predictions)"
   ]
  },
  {
   "cell_type": "markdown",
   "execution_count": null,
   "metadata": {
    "colab_type": "text",
    "id": "P0P-dmo6vC3G"
   },
   "outputs": [],
   "source": [
    "# Learning Algorithm\n",
    "Using adam optimizer with loss as categorical crossentropy and printing out accuracy as metrics while learning.\n",
    "\n",
    "*Define the directory if you are running notebook on local machine*\n",
    "\n",
    "\n",
    "---\n",
    "\n",
    "\n",
    "## Train 1\n",
    "First the model is trained on the Resnet for 10 epochs and batch size of 32\n",
    "\n",
    "---\n",
    "\n"
   ]
  },
  {
   "cell_type": "code",
   "execution_count": null,
   "metadata": {
    "colab": {},
    "colab_type": "code",
    "id": "uIlYyN65nxkx"
   },
   "outputs": [],
   "source": [
    "model.compile(optimizer='adam', loss='categorical_crossentropy',metrics=['accuracy'])\n",
    "\n",
    "EPOCHS = 10\n",
    "BS = 32\n",
    "aug = ImageDataGenerator(rotation_range=5, zoom_range=0.2, rescale=1./255,\n",
    "                         width_shift_range=0.2, height_shift_range=0.2,\n",
    "                         shear_range=0.18,\n",
    "                         horizontal_flip=False, fill_mode=\"nearest\")\n",
    "\n",
    "#directory for image as data\n",
    "directory = \"/content/asl_alphabet_train\"\n",
    "\n",
    "image_generator = aug.flow_from_directory(directory, target_size=(200, 200), \n",
    "                    class_mode='categorical',batch_size=32)\n",
    "\n",
    "H = model.fit_generator(image_generator,steps_per_epoch=2718, epochs=EPOCHS).cuda()"
   ]
  },
  {
   "cell_type": "code",
   "execution_count": null,
   "metadata": {
    "colab": {},
    "colab_type": "code",
    "id": "b5Tpj3W-0L5A"
   },
   "outputs": [],
   "source": [
    "for layer in model.layers:\n",
    "    layer.trainable = True"
   ]
  },
  {
   "cell_type": "markdown",
   "execution_count": null,
   "metadata": {
    "colab_type": "text",
    "id": "vSlkYMI80q9H"
   },
   "outputs": [],
   "source": [
    "## Train 2\n",
    "Then it is trained on the 3 additional fully connected layers for 2 epochs and batch size of 32\n",
    "\n",
    "---\n",
    "\n"
   ]
  },
  {
   "cell_type": "code",
   "execution_count": null,
   "metadata": {
    "colab": {},
    "colab_type": "code",
    "id": "BDQmcSewnzck"
   },
   "outputs": [],
   "source": [
    "model.compile(optimizer='adam', loss='categorical_crossentropy',metrics=['accuracy'])\n",
    "\n",
    "EPOCHS = 2\n",
    "BS = 32\n",
    "aug = ImageDataGenerator(rotation_range=5, zoom_range=0.2, rescale=1./255,\n",
    "                         width_shift_range=0.2, height_shift_range=0.2,\n",
    "                         shear_range=0.18,\n",
    "                         horizontal_flip=False, fill_mode=\"nearest\")\n",
    "\n",
    "#directory for image as data\n",
    "directory = \"/content/asl_alphabet_train\"\n",
    "\n",
    "image_generator = aug.flow_from_directory(directory, target_size=(200, 200), \n",
    "                    class_mode='categorical',batch_size=32)\n",
    "\n",
    "H2 = model.fit_generator(image_generator,steps_per_epoch=2718, epochs=EPOCHS)"
   ]
  },
  {
   "cell_type": "markdown",
   "execution_count": null,
   "metadata": {
    "colab_type": "text",
    "id": "SrWnFI2H0-Mo"
   },
   "outputs": [],
   "source": [
    "## Final steps\n",
    "Saving the model and printing history of first and second train\n",
    "\n",
    "\n",
    "---\n",
    "\n"
   ]
  },
  {
   "cell_type": "code",
   "execution_count": null,
   "metadata": {
    "colab": {},
    "colab_type": "code",
    "id": "zOzgMXx-063e"
   },
   "outputs": [],
   "source": [
    "model.save(\"./resnet1.h5\")\n",
    "\n",
    "H.history\n",
    "\n",
    "H2.history"
   ]
  }
 ],
 "metadata": {
  "accelerator": "GPU",
  "colab": {
   "collapsed_sections": [],
   "name": "Training_Model.ipynb",
   "provenance": [],
   "version": "0.3.2"
  },
  "kernelspec": {
   "display_name": "Python 3",
   "language": "python",
   "name": "python3"
  },
  "language_info": {
   "codemirror_mode": {
    "name": "ipython",
    "version": 3
   },
   "file_extension": ".py",
   "mimetype": "text/x-python",
   "name": "python",
   "nbconvert_exporter": "python",
   "pygments_lexer": "ipython3",
   "version": "3.6.9-final"
  }
 },
 "nbformat": 4,
 "nbformat_minor": 1
}