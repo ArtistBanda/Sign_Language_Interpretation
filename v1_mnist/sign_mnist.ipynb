{
 "cells": [
  {
   "cell_type": "code",
   "execution_count": 2,
   "metadata": {
    "colab": {
     "base_uri": "https://localhost:8080/",
     "height": 33
    },
    "colab_type": "code",
    "executionInfo": {
     "elapsed": 2074,
     "status": "ok",
     "timestamp": 1561300289909,
     "user": {
      "displayName": "Chirag Gomber",
      "photoUrl": "https://lh4.googleusercontent.com/-VPXeut2hLSw/AAAAAAAAAAI/AAAAAAAAXI8/Gv1bkn3fvFc/s64/photo.jpg",
      "userId": "06010592644310699058"
     },
     "user_tz": -480
    },
    "id": "GP9-qdJWW0zx",
    "outputId": "4a55375d-58e6-4073-bcf9-322c5c77371b"
   },
   "outputs": [
    {
     "data": {
      "text/plain": [
       "'1.14.0'"
      ]
     },
     "execution_count": 2,
     "metadata": {},
     "output_type": "execute_result"
    }
   ],
   "source": [
    "import tensorflow as tf\n",
    "from tensorflow import keras\n",
    "import numpy as np\n",
    "import pandas as pd\n",
    "import matplotlib.pyplot as plt\n",
    "#from google.colab import drive\n",
    "\n",
    "tf.__version__"
   ]
  },
  {
   "cell_type": "code",
   "execution_count": 3,
   "metadata": {
    "colab": {
     "base_uri": "https://localhost:8080/",
     "height": 33
    },
    "colab_type": "code",
    "executionInfo": {
     "elapsed": 23719,
     "status": "ok",
     "timestamp": 1561300311595,
     "user": {
      "displayName": "Chirag Gomber",
      "photoUrl": "https://lh4.googleusercontent.com/-VPXeut2hLSw/AAAAAAAAAAI/AAAAAAAAXI8/Gv1bkn3fvFc/s64/photo.jpg",
      "userId": "06010592644310699058"
     },
     "user_tz": -480
    },
    "id": "FdMr0O0HW9rF",
    "outputId": "5b6da98a-0483-4ea7-f3e6-ecfbbbf893b9"
   },
   "outputs": [],
   "source": [
    "#drive.mount('/content/gdrive')"
   ]
  },
  {
   "cell_type": "code",
   "execution_count": 4,
   "metadata": {
    "colab": {},
    "colab_type": "code",
    "id": "u_7dznb8XJj4"
   },
   "outputs": [],
   "source": [
    "df_train = pd.read_csv('./sign_mnist_train.csv')\n",
    "df_test = pd.read_csv('./sign_mnist_test.csv')"
   ]
  },
  {
   "cell_type": "code",
   "execution_count": 5,
   "metadata": {
    "colab": {
     "base_uri": "https://localhost:8080/",
     "height": 33
    },
    "colab_type": "code",
    "executionInfo": {
     "elapsed": 30008,
     "status": "ok",
     "timestamp": 1561300317921,
     "user": {
      "displayName": "Chirag Gomber",
      "photoUrl": "https://lh4.googleusercontent.com/-VPXeut2hLSw/AAAAAAAAAAI/AAAAAAAAXI8/Gv1bkn3fvFc/s64/photo.jpg",
      "userId": "06010592644310699058"
     },
     "user_tz": -480
    },
    "id": "KkHUBtcYXcJ4",
    "outputId": "d6b88ea4-e5d8-44e9-a8e6-8a3856db706a"
   },
   "outputs": [
    {
     "data": {
      "text/plain": [
       "((27455, 785), (7172, 785))"
      ]
     },
     "execution_count": 5,
     "metadata": {},
     "output_type": "execute_result"
    }
   ],
   "source": [
    "df_train.shape, df_test.shape"
   ]
  },
  {
   "cell_type": "code",
   "execution_count": 6,
   "metadata": {
    "colab": {
     "base_uri": "https://localhost:8080/",
     "height": 50
    },
    "colab_type": "code",
    "executionInfo": {
     "elapsed": 29977,
     "status": "ok",
     "timestamp": 1561300317922,
     "user": {
      "displayName": "Chirag Gomber",
      "photoUrl": "https://lh4.googleusercontent.com/-VPXeut2hLSw/AAAAAAAAAAI/AAAAAAAAXI8/Gv1bkn3fvFc/s64/photo.jpg",
      "userId": "06010592644310699058"
     },
     "user_tz": -480
    },
    "id": "XOm2y2wqYPhf",
    "outputId": "52000d4b-594d-4619-dbee-7c28a89a5888"
   },
   "outputs": [
    {
     "data": {
      "text/plain": [
       "array([ 0,  1,  2,  3,  4,  5,  6,  7,  8, 10, 11, 12, 13, 14, 15, 16, 17,\n",
       "       18, 19, 20, 21, 22, 23, 24])"
      ]
     },
     "execution_count": 6,
     "metadata": {},
     "output_type": "execute_result"
    }
   ],
   "source": [
    "np.sort(df_train['label'].unique())"
   ]
  },
  {
   "cell_type": "code",
   "execution_count": 7,
   "metadata": {
    "colab": {},
    "colab_type": "code",
    "id": "FAoy9f4bYlWr"
   },
   "outputs": [],
   "source": [
    "x_train, y_train = df_train.drop(columns='label').values, df_train['label'].values\n",
    "x_test, y_test = df_test.drop(columns='label').values, df_test['label'].values"
   ]
  },
  {
   "cell_type": "code",
   "execution_count": 8,
   "metadata": {
    "colab": {},
    "colab_type": "code",
    "id": "W9nF3JR5Y2ji"
   },
   "outputs": [],
   "source": [
    "x_train = x_train / 255\n",
    "x_test = x_test / 255\n",
    "\n",
    "x_train = x_train.reshape(x_train.shape[0], 28, 28, 1)\n",
    "x_test = x_test.reshape(x_test.shape[0], 28, 28, 1)"
   ]
  },
  {
   "cell_type": "code",
   "execution_count": 9,
   "metadata": {
    "colab": {
     "base_uri": "https://localhost:8080/",
     "height": 286
    },
    "colab_type": "code",
    "executionInfo": {
     "elapsed": 30717,
     "status": "ok",
     "timestamp": 1561300318698,
     "user": {
      "displayName": "Chirag Gomber",
      "photoUrl": "https://lh4.googleusercontent.com/-VPXeut2hLSw/AAAAAAAAAAI/AAAAAAAAXI8/Gv1bkn3fvFc/s64/photo.jpg",
      "userId": "06010592644310699058"
     },
     "user_tz": -480
    },
    "id": "6lGpXLn-Y7US",
    "outputId": "ef539b8d-1887-42a4-87f0-2fa3a01d6bb1"
   },
   "outputs": [
    {
     "data": {
      "image/png": "[encoded data removed]",
      "text/plain": [
       "<Figure size 432x288 with 1 Axes>"
      ]
     },
     "metadata": {
      "needs_background": "light"
     },
     "output_type": "display_data"
    },
    {
     "name": "stdout",
     "output_type": "stream",
     "text": [
      "8\n"
     ]
    }
   ],
   "source": [
    "i = 6\n",
    "plt.figure(1)\n",
    "plt.imshow(x_train[i].reshape(28, 28))\n",
    "plt.show()\n",
    "print(y_train[i])"
   ]
  },
  {
   "cell_type": "code",
   "execution_count": 10,
   "metadata": {
    "colab": {
     "base_uri": "https://localhost:8080/",
     "height": 104
    },
    "colab_type": "code",
    "executionInfo": {
     "elapsed": 30992,
     "status": "ok",
     "timestamp": 1561300318976,
     "user": {
      "displayName": "Chirag Gomber",
      "photoUrl": "https://lh4.googleusercontent.com/-VPXeut2hLSw/AAAAAAAAAAI/AAAAAAAAXI8/Gv1bkn3fvFc/s64/photo.jpg",
      "userId": "06010592644310699058"
     },
     "user_tz": -480
    },
    "id": "SCZ_VqG3ZTXZ",
    "outputId": "869fe53f-e84b-471a-a6f8-23b0d2884407"
   },
   "outputs": [
    {
     "name": "stdout",
     "output_type": "stream",
     "text": [
      "WARNING:tensorflow:From /home/artistbanda/Documents/Projects/Sign_Language_Interpretation/venv/lib/python3.6/site-packages/tensorflow/python/ops/init_ops.py:1251: calling VarianceScaling.__init__ (from tensorflow.python.ops.init_ops) with dtype is deprecated and will be removed in a future version.\n",
      "Instructions for updating:\n",
      "Call initializer instance with the dtype argument instead of passing it to the constructor\n"
     ]
    }
   ],
   "source": [
    "model = keras.Sequential()\n",
    "model.add(keras.layers.Conv2D(64, kernel_size=(3,3), activation = 'relu', input_shape=(28, 28 ,1) ))\n",
    "model.add(keras.layers.MaxPooling2D(pool_size = (2, 2)))\n",
    "\n",
    "model.add(keras.layers.Conv2D(64, kernel_size = (3, 3), activation = 'relu'))\n",
    "model.add(keras.layers.MaxPooling2D(pool_size = (2, 2)))\n",
    "\n",
    "model.add(keras.layers.Conv2D(64, kernel_size = (3, 3), activation = 'relu'))\n",
    "model.add(keras.layers.MaxPooling2D(pool_size = (2, 2)))\n",
    "\n",
    "model.add(keras.layers.Flatten())\n",
    "model.add(keras.layers.Dense(128, activation = 'relu'))\n",
    "model.add(keras.layers.Dropout(0.20))\n",
    "model.add(keras.layers.Dense(25, activation = 'softmax'))"
   ]
  },
  {
   "cell_type": "code",
   "execution_count": 11,
   "metadata": {
    "colab": {},
    "colab_type": "code",
    "id": "sxVeV484ZyHQ"
   },
   "outputs": [],
   "source": [
    "model.compile(optimizer='adam', loss = 'sparse_categorical_crossentropy', metrics=['accuracy'])"
   ]
  },
  {
   "cell_type": "code",
   "execution_count": null,
   "metadata": {
    "colab": {
     "base_uri": "https://localhost:8080/",
     "height": 1706
    },
    "colab_type": "code",
    "executionInfo": {
     "elapsed": 1988091,
     "status": "ok",
     "timestamp": 1561302276114,
     "user": {
      "displayName": "Chirag Gomber",
      "photoUrl": "https://lh4.googleusercontent.com/-VPXeut2hLSw/AAAAAAAAAAI/AAAAAAAAXI8/Gv1bkn3fvFc/s64/photo.jpg",
      "userId": "06010592644310699058"
     },
     "user_tz": -480
    },
    "id": "eKRwZGKAcBo5",
    "outputId": "4d6f6fb3-6a12-47b8-801d-9c7f8d604f56"
   },
   "outputs": [],
   "source": [
    "history = model.fit(x_train, y_train, validation_data = (x_test, y_test), epochs=50, batch_size=128)"
   ]
  },
  {
   "cell_type": "code",
   "execution_count": null,
   "metadata": {},
   "outputs": [],
   "source": [
    "model.save('mnist_model.h5')"
   ]
  }
 ],
 "metadata": {
  "colab": {
   "name": "sign_mnist.ipynb",
   "provenance": [],
   "version": "0.3.2"
  },
  "kernelspec": {
   "display_name": "Python 3",
   "language": "python",
   "name": "python3"
  },
  "language_info": {
   "codemirror_mode": {
    "name": "ipython",
    "version": 3
   },
   "file_extension": ".py",
   "mimetype": "text/x-python",
   "name": "python",
   "nbconvert_exporter": "python",
   "pygments_lexer": "ipython3",
   "version": "3.6.8"
  }
 },
 "nbformat": 4,
 "nbformat_minor": 1
}
